{
 "cells": [
  {
   "cell_type": "code",
   "execution_count": 1,
   "id": "3c01d417",
   "metadata": {},
   "outputs": [],
   "source": [
    "import sys\n",
    "import os\n",
    "import itertools\n",
    "\n",
    "import numpy as np\n",
    "import sklearn.metrics\n",
    "\n",
    "sys.path.append(os.path.dirname(os.path.realpath('.')))\n",
    "os.environ[\"WANDB_DISABLED\"] = \"true\""
   ]
  },
  {
   "cell_type": "markdown",
   "id": "1e7b654c",
   "metadata": {},
   "source": [
    "# Evaluation utility methods"
   ]
  },
  {
   "cell_type": "code",
   "execution_count": 2,
   "id": "8ae7a1c4",
   "metadata": {},
   "outputs": [],
   "source": [
    "def range_equals(left: 'Tuple[float, float]', right: 'Tuple[float, float]', eps: float) -> bool:\n",
    "    left_start, left_end = left\n",
    "    right_start, right_end = right\n",
    "    \n",
    "    return (abs(left_start - right_start) <= eps\n",
    "        and abs(left_end - right_end) <= eps)\n",
    "\n",
    "def count_range_equals(pairs, eps: float) -> int:\n",
    "    cnt = 0\n",
    "    for left, right in pairs:\n",
    "        if range_equals(left, right, eps):\n",
    "            cnt += 1\n",
    "    return cnt\n",
    "\n",
    "def range_negation(base: 'Tuple[float, float]', ranges: 'List[Tuple[float, float]]') -> 'List[Tuple[float, float]]':\n",
    "    \"\"\"\n",
    "    base:    |-------------|\n",
    "    ranges:  | ***   **    |\n",
    "    Return:  |#   ###  ####|\n",
    "    \"\"\"\n",
    "    results = []\n",
    "    last_end = base[0]\n",
    "    for r in ranges:\n",
    "        if last_end != r[0]:\n",
    "            results.append((last_end, r[0]))\n",
    "        last_end = r[1]\n",
    "    if last_end != base[1]:\n",
    "        results.append((last_end, base[1]))\n",
    "        \n",
    "    return results"
   ]
  },
  {
   "cell_type": "code",
   "execution_count": 32,
   "id": "ccd98bbb",
   "metadata": {},
   "outputs": [],
   "source": [
    "def create_labels_from_range(captions, sponsor_ranges):\n",
    "    caption_labels = np.zeros(len(captions), dtype=bool)\n",
    "    for start_idx, end_idx in sponsor_ranges:\n",
    "        if start_idx is None or end_idx is None:\n",
    "            continue\n",
    "        for i in range(start_idx, end_idx + 1):\n",
    "            caption_labels[i] = True\n",
    "\n",
    "    token_labels = []\n",
    "    for i, caption in enumerate(captions):\n",
    "        num_tokens = len(caption.text.split())\n",
    "        token_labels.extend([caption_labels[i]] * num_tokens)\n",
    "    return token_labels\n",
    "\n",
    "def create_labels_from_times(captions, sponsor_times):\n",
    "    ranges = [get_intersection_range(captions, *pair[1]) for pair in sponsor_times]\n",
    "    return create_labels_from_range(captions, ranges)\n",
    "\n",
    "def merge_ranges(ranges):\n",
    "    range_iter = iter(ranges)\n",
    "    try:\n",
    "        results = [next(range_iter)]\n",
    "    except StopIteration:\n",
    "        return\n",
    "    for r in range_iter:\n",
    "        if results[-1][1] == r[0]:\n",
    "            results.append(r)\n",
    "        else:\n",
    "            yield results[0][0], results[-1][1]\n",
    "            results = [r]\n",
    "\n",
    "    yield results[0][0], results[-1][1]\n",
    "\n",
    "def compute_results(videos, model, eps=5):\n",
    "    from tqdm.auto import tqdm\n",
    "    \n",
    "    predicted_labels = np.empty(0)\n",
    "    actual_labels = np.empty(0)\n",
    "    # Values for our close match metric (exact match with threshold)\n",
    "    # Number of maches\n",
    "    close_matches = 0\n",
    "    # Number of predicted ranges\n",
    "    total_predicted_ranges = 0\n",
    "    \n",
    "    for video_id, captions, sponsor_ranges in tqdm(videos):\n",
    "        predicted_sponsor_ranges = []\n",
    "\n",
    "        for predicted_range in merge_ranges(model.predict(captions)):\n",
    "            if predicted_range[0] is None or predicted_range[1] is None:\n",
    "                continue\n",
    "            \n",
    "            predicted_sponsor_ranges.append(predicted_range)\n",
    "            \n",
    "            if any((range_equals(predicted_range, r, eps) for r in sponsor_ranges)):\n",
    "                close_matches += 1\n",
    "            total_predicted_ranges += 1\n",
    "\n",
    "        predicted_labels = np.append(predicted_labels, create_labels_from_range(captions, predicted_sponsor_ranges))\n",
    "        actual_labels = np.append(actual_labels, create_labels_from_range(captions, sponsor_ranges))\n",
    "        \n",
    "        print(f'\\tPredicted={predicted_sponsor_ranges},\\n\\tExpected={sponsor_ranges}')\n",
    "        \n",
    "    return { 'predictions': predicted_labels, 'references': actual_labels, 'exact_match': close_matches, 'predicted_ranges': total_predicted_ranges }\n",
    "\n",
    "def evaluate(videos, model, eps=1):\n",
    "    from sklearn.metrics import confusion_matrix, accuracy_score, precision_score, recall_score, precision_recall_curve, roc_curve\n",
    "    \n",
    "    outputs = compute_results(videos, model, eps)\n",
    "    predictions = outputs['predictions']\n",
    "    references = outputs['references']\n",
    "    exact_matches = outputs['exact_match']\n",
    "    total_predictions = outputs['predicted_ranges']\n",
    "    \n",
    "    exact_match_score = exact_matches / total_predictions\n",
    "    print(f'Exact match (with {eps}s threshold)', exact_match_score)\n",
    "    print('\\tConfusion matrix', confusion_matrix(predictions, references))\n",
    "    print('\\tAccuracy', accuracy_score(predictions, references))\n",
    "    print('\\tPrecision', precision_score(predictions, references))\n",
    "    print('\\tRecall', recall_score(predictions, references))\n",
    "    print('\\tP@R', precision_recall_curve(predictions, references))\n",
    "    print('\\tRoC', roc_curve(predictions, references))"
   ]
  },
  {
   "cell_type": "markdown",
   "id": "e6aedb39",
   "metadata": {},
   "source": [
    "# Load videos to evaluate"
   ]
  },
  {
   "cell_type": "code",
   "execution_count": 33,
   "id": "49369453",
   "metadata": {
    "scrolled": true
   },
   "outputs": [
    {
     "name": "stderr",
     "output_type": "stream",
     "text": [
      "\u001b[34mOpening ./data.16.json.gz for reading...\u001b[0m\n"
     ]
    },
    {
     "name": "stdout",
     "output_type": "stream",
     "text": [
      "Dropping YzgTMh21zhI because sponsor times do not match the captions\n",
      "Dropping yzhnRt6ZDKM because sponsor times do not match the captions\n",
      "Dropping YZhVE7X0zwk because sponsor times do not match the captions\n",
      "Dropping yzJokj2gelY because sponsor times do not match the captions\n",
      "Dropping YzMAxdSdkzo because sponsor times do not match the captions\n",
      "Dropping YZMrBCxarlk because sponsor times do not match the captions\n"
     ]
    }
   ],
   "source": [
    "from data_loader import load_captions_from_chunks\n",
    "\n",
    "test_videos = list(itertools.islice(load_captions_from_chunks('data', './', [16]), 1, 20))"
   ]
  },
  {
   "cell_type": "markdown",
   "id": "9f5d948b",
   "metadata": {},
   "source": [
    "# Evaluate Sequence Classification"
   ]
  },
  {
   "cell_type": "code",
   "execution_count": 34,
   "id": "ccb24d39",
   "metadata": {
    "scrolled": true
   },
   "outputs": [
    {
     "data": {
      "application/vnd.jupyter.widget-view+json": {
       "model_id": "38148c9cec814df7a61ef4d0388cdc3d",
       "version_major": 2,
       "version_minor": 0
      },
      "text/plain": [
       "  0%|          | 0/19 [00:00<?, ?it/s]"
      ]
     },
     "metadata": {},
     "output_type": "display_data"
    },
    {
     "name": "stdout",
     "output_type": "stream",
     "text": [
      "\tPredicted=[(230, 235), (351, 357)],\n",
      "\tExpected=[[21, 46]]\n",
      "\tPredicted=[(264, 270)],\n",
      "\tExpected=[[267, 300]]\n",
      "\tPredicted=[(13, 17), (33, 38), (56, 58)],\n",
      "\tExpected=[[14, 41]]\n",
      "\tPredicted=[(51, 56), (187, 192), (256, 259), (292, 297)],\n",
      "\tExpected=[[187, 231]]\n",
      "\tPredicted=[],\n",
      "\tExpected=[[156, 196]]\n",
      "\tPredicted=[(0, 10), (147, 153), (161, 167), (181, 193)],\n",
      "\tExpected=[[145, 194]]\n",
      "\tPredicted=[],\n",
      "\tExpected=[[9, 32]]\n",
      "\tPredicted=[],\n",
      "\tExpected=[[0, 0]]\n",
      "\tPredicted=[(0, 4), (101, 115), (124, 128)],\n",
      "\tExpected=[[0, 5], [97, 125]]\n",
      "\tPredicted=[(17, 24), (48, 53)],\n",
      "\tExpected=[[20, 58]]\n",
      "\tPredicted=[(0, 4)],\n",
      "\tExpected=[[0, 5]]\n",
      "\tPredicted=[],\n",
      "\tExpected=[[2, 4], [276, 302]]\n",
      "\tPredicted=[(0, 3), (469, 475), (641, 648)],\n",
      "\tExpected=[[0, 1]]\n",
      "\tPredicted=[(0, 3), (869, 873), (880, 884), (891, 895)],\n",
      "\tExpected=[[0, 4]]\n",
      "\tPredicted=[(0, 2)],\n",
      "\tExpected=[[0, 0], [62, 77]]\n",
      "\tPredicted=[(0, 6), (14, 20)],\n",
      "\tExpected=[[2, 28]]\n",
      "\tPredicted=[(129, 134)],\n",
      "\tExpected=[[73, 98]]\n",
      "\tPredicted=[(27, 31)],\n",
      "\tExpected=[[14, 40]]\n",
      "\tPredicted=[(13, 18)],\n",
      "\tExpected=[[0, 23]]\n",
      "Exact match (with 1s threshold) 0.09090909090909091\n",
      "\tConfusion matrix [[58237  2689]\n",
      " [  628   732]]\n",
      "\tAccuracy 0.9467456571300131\n",
      "\tPrecision 0.21397252265419467\n",
      "\tRecall 0.538235294117647\n",
      "\tP@R (array([0.02183476, 0.21397252, 1.        ]), array([1.        , 0.53823529, 0.        ]), array([0., 1.]))\n",
      "\tRoC (array([0.        , 0.04413551, 1.        ]), array([0.        , 0.53823529, 1.        ]), array([2., 1., 0.]))\n"
     ]
    }
   ],
   "source": [
    "from sequence_classification import SponsorSequenceClassification\n",
    "\n",
    "evaluate(\n",
    "    videos=test_videos,\n",
    "    model=SponsorSequenceClassification('distilbert-classification-uncased/checkpoint-7210'),\n",
    "    eps=1\n",
    ")"
   ]
  },
  {
   "cell_type": "markdown",
   "id": "588c84b6",
   "metadata": {},
   "source": [
    "# Evaluate Sequence Labelling"
   ]
  },
  {
   "cell_type": "code",
   "execution_count": 36,
   "id": "29f5783c",
   "metadata": {},
   "outputs": [
    {
     "data": {
      "application/vnd.jupyter.widget-view+json": {
       "model_id": "6c9483213ab44c4c8c22d2fd881044a7",
       "version_major": 2,
       "version_minor": 0
      },
      "text/plain": [
       "  0%|          | 0/19 [00:00<?, ?it/s]"
      ]
     },
     "metadata": {},
     "output_type": "display_data"
    },
    {
     "name": "stdout",
     "output_type": "stream",
     "text": [
      "\tPredicted=[(350, 362)],\n",
      "\tExpected=[[21, 46]]\n",
      "\tPredicted=[(264, 264), (265, 297)],\n",
      "\tExpected=[[267, 300]]\n",
      "\tPredicted=[(0, 0), (14, 39)],\n",
      "\tExpected=[[14, 41]]\n",
      "\tPredicted=[],\n",
      "\tExpected=[[187, 231]]\n",
      "\tPredicted=[],\n",
      "\tExpected=[[156, 196]]\n",
      "\tPredicted=[(0, 1), (2, 6), (139, 139), (140, 140), (141, 141), (142, 142), (143, 194), (538, 538), (540, 540), (541, 541), (542, 542), (543, 543), (544, 546), (547, 547)],\n",
      "\tExpected=[[145, 194]]\n",
      "\tPredicted=[(14, 14), (15, 28), (29, 30)],\n",
      "\tExpected=[[9, 32]]\n",
      "\tPredicted=[],\n",
      "\tExpected=[[0, 0]]\n",
      "\tPredicted=[(1, 1), (2, 3), (4, 4), (5, 5), (64, 64), (97, 129)],\n",
      "\tExpected=[[0, 5], [97, 125]]\n",
      "\tPredicted=[],\n",
      "\tExpected=[[20, 58]]\n",
      "\tPredicted=[(0, 4)],\n",
      "\tExpected=[[0, 5]]\n",
      "\tPredicted=[(0, 3), (270, 270), (272, 272), (273, 273), (274, 274), (275, 276), (277, 302), (308, 308)],\n",
      "\tExpected=[[2, 4], [276, 302]]\n",
      "\tPredicted=[(463, 463), (469, 517)],\n",
      "\tExpected=[[0, 1]]\n",
      "\tPredicted=[(864, 864), (865, 865), (866, 866), (868, 878), (879, 915), (940, 943), (946, 946), (947, 949), (950, 951)],\n",
      "\tExpected=[[0, 4]]\n",
      "\tPredicted=[(0, 0), (62, 62), (63, 77)],\n",
      "\tExpected=[[0, 0], [62, 77]]\n",
      "\tPredicted=[(1, 24), (25, 25), (26, 26), (27, 27)],\n",
      "\tExpected=[[2, 28]]\n",
      "\tPredicted=[(72, 76)],\n",
      "\tExpected=[[73, 98]]\n",
      "\tPredicted=[],\n",
      "\tExpected=[[14, 40]]\n",
      "\tPredicted=[(13, 13), (14, 20)],\n",
      "\tExpected=[[0, 23]]\n",
      "Exact match (with 1s threshold) 0.06896551724137931\n",
      "\tConfusion matrix [[57798  1625]\n",
      " [ 1067  1796]]\n",
      "\tAccuracy 0.9567800147705744\n",
      "\tPrecision 0.5249926921952646\n",
      "\tRecall 0.6273140062871114\n",
      "\tP@R (array([0.04596539, 0.52499269, 1.        ]), array([1.        , 0.62731401, 0.        ]), array([0., 1.]))\n",
      "\tRoC (array([0.        , 0.02734631, 1.        ]), array([0.        , 0.62731401, 1.        ]), array([2., 1., 0.]))\n"
     ]
    }
   ],
   "source": [
    "from sequence_labelling import SponsorTokenClassification\n",
    "\n",
    "evaluate(\n",
    "    videos=test_videos,\n",
    "    model=SponsorTokenClassification('seq_labelling.model'),\n",
    "    eps=1\n",
    ")"
   ]
  },
  {
   "cell_type": "markdown",
   "id": "576a5b8f",
   "metadata": {},
   "source": [
    "# Evaluate Span Extraction\n",
    "The predict function is not implemented. Some results are available in the corresponding notebook."
   ]
  },
  {
   "cell_type": "code",
   "execution_count": 38,
   "id": "6456f4d6",
   "metadata": {},
   "outputs": [
    {
     "data": {
      "application/vnd.jupyter.widget-view+json": {
       "model_id": "01250a3e15884b1a93900d711b3b92f3",
       "version_major": 2,
       "version_minor": 0
      },
      "text/plain": [
       "  0%|          | 0/19 [00:00<?, ?it/s]"
      ]
     },
     "metadata": {},
     "output_type": "display_data"
    },
    {
     "name": "stdout",
     "output_type": "stream",
     "text": [
      "{'input_ids': [101, 7592, 6160, 2067, 2000, 1043, 2290, 2694, 2062, 4919, 6456, 1998, 11218, 6160, 2067, 2000, 2047, 2482, 2154, 1045, 1005, 1049, 2182, 2012, 16099, 28387, 1998, 2651, 1045, 1005, 1049, 9334, 2026, 5585, 2475, 19989, 15386, 1042, 2017, 1005, 2222, 5060, 1999, 1996, 4281, 2182, 2045, 1005, 1055, 2070, 5220, 3765, 2057, 1005, 2310, 2288, 2720, 5226, 1005, 1055, 2938, 1999, 2304, 1049, 2620, 2023, 2003, 2941, 1996, 2034, 2051, 1045, 1005, 2310, 2464, 2009, 2200, 3835, 2000, 2156, 2023, 2482, 2009, 2941, 3504, 3243, 4658, 2005, 13255, 2023, 2003, 3492, 4658, 2061, 2092, 2589, 2032, 1045, 2123, 1005, 1056, 2411, 2507, 2032, 19394, 2015, 2021, 2045, 1005, 1055, 1037, 2235, 2028, 2045, 1998, 2057, 1005, 2310, 2036, 2288, 2026, 2567, 1005, 1055, 2146, 29141, 2846, 13631, 1998, 2036, 2026, 2567, 2004, 2092, 2026, 2567, 2003, 2058, 2045, 1998, 13255, 2003, 2058, 2045, 2004, 2092, 2027, 1005, 2128, 2045, 2521, 2062, 10990, 2135, 2084, 2216, 28781, 2059, 2007, 2023, 2678, 2017, 2064, 2663, 1996, 2200, 2482, 2008, 1045, 1005, 1049, 8130, 2039, 2012, 5585, 2475, 15386, 1055, 2007, 28516, 2497, 2247, 2007, 2322, 2060, 16099, 2015, 7281, 2318, 2074, 5594, 2361, 2017, 1005, 2310, 2288, 2000, 2022, 2459, 2030, 2058, 2000, 4607, 1998, 1996, 6971, 2024, 2917, 2009, 2003, 3565, 3565, 3722, 2000, 4607, 2619, 5222, 1037, 2482, 2296, 2309, 2733, 1998, 2027, 1005, 2310, 2036, 2288, 1037, 3054, 28075, 2971, 2085, 2004, 2092, 2061, 2017, 2064, 2941, 2663, 1037, 2482, 2025, 3807, 1037, 2733, 2085, 2025, 2069, 2008, 2065, 2017, 16356, 1037, 3482, 2017, 2064, 2131, 2322, 2882, 1999, 5356, 1999, 1996, 9573, 2004, 2092, 2029, 2003, 2035, 2200, 10990, 1045, 2071, 3066, 2007, 2008, 2000, 2022, 4189, 2138, 2023, 2028, 2038, 1037, 12176, 2033, 2041, 1996, 6971, 2024, 2917, 4312, 2191, 2469, 2017, 2175, 1998, 2131, 2920, 1999, 2008, 1998, 2004, 1045, 2467, 15686, 1045, 2089, 2092, 2735, 2039, 2000, 2115, 3074, 2009, 1005, 1055, 3047, 2077, 1045, 1005, 2310, 2357, 2039, 2000, 1037, 3453, 1005, 1055, 2192, 7840, 2007, 2720, 5226, 2941, 2004, 2092, 2061, 2079, 4607, 2008, 2005, 2085, 2295, 1045, 2228, 2057, 1005, 2128, 6069, 2131, 2503, 1996, 2482, 2038, 2074, 2042, 2716, 2039, 2013, 1996, 2785, 1997, 2066, 22851, 2072, 3016, 5230, 2009, 1005, 1055, 2042, 2716, 2039, 2009, 1005, 1055, 6069, 2022, 2716, 2105, 1996, 2392, 1998, 1045, 1005, 1049, 6069, 2202, 1037, 2298, 2012, 2009, 2061, 7910, 1045, 1005, 1049, 2428, 7568, 2941, 1045, 1005, 2310, 2196, 2018, 1037, 15386, 1055, 2077, 2009, 1005, 1055, 2005, 2033, 2009, 1005, 1055, 2785, 1997, 1996, 7209, 5195, 1045, 1005, 2310, 2025, 4149, 1037, 22953, 20760, 2890, 2247, 2008, 1045, 4149, 2125, 1041, 15907, 2003, 2074, 1037, 2482, 2008, 1045, 2428, 2215, 2061, 1045, 1005, 1049, 2200, 7568, 2055, 2023, 2061, 2292, 1005, 1055, 2131, 2183, 2182, 2057, 2175, 2059, 1045, 1005, 1049, 2183, 2000, 8011, 2023, 2041, 2045, 1005, 1055, 2183, 2000, 2022, 2053, 2644, 3441, 2057, 1005, 2128, 2074, 2183, 2000, 2175, 2105, 1996, 2482, 2061, 2057, 1005, 2310, 2288, 26343, 12392, 2304, 2057, 1005, 2310, 2288, 1996, 2304, 2039, 9250, 18167, 2045, 102], 'attention_mask': [1, 1, 1, 1, 1, 1, 1, 1, 1, 1, 1, 1, 1, 1, 1, 1, 1, 1, 1, 1, 1, 1, 1, 1, 1, 1, 1, 1, 1, 1, 1, 1, 1, 1, 1, 1, 1, 1, 1, 1, 1, 1, 1, 1, 1, 1, 1, 1, 1, 1, 1, 1, 1, 1, 1, 1, 1, 1, 1, 1, 1, 1, 1, 1, 1, 1, 1, 1, 1, 1, 1, 1, 1, 1, 1, 1, 1, 1, 1, 1, 1, 1, 1, 1, 1, 1, 1, 1, 1, 1, 1, 1, 1, 1, 1, 1, 1, 1, 1, 1, 1, 1, 1, 1, 1, 1, 1, 1, 1, 1, 1, 1, 1, 1, 1, 1, 1, 1, 1, 1, 1, 1, 1, 1, 1, 1, 1, 1, 1, 1, 1, 1, 1, 1, 1, 1, 1, 1, 1, 1, 1, 1, 1, 1, 1, 1, 1, 1, 1, 1, 1, 1, 1, 1, 1, 1, 1, 1, 1, 1, 1, 1, 1, 1, 1, 1, 1, 1, 1, 1, 1, 1, 1, 1, 1, 1, 1, 1, 1, 1, 1, 1, 1, 1, 1, 1, 1, 1, 1, 1, 1, 1, 1, 1, 1, 1, 1, 1, 1, 1, 1, 1, 1, 1, 1, 1, 1, 1, 1, 1, 1, 1, 1, 1, 1, 1, 1, 1, 1, 1, 1, 1, 1, 1, 1, 1, 1, 1, 1, 1, 1, 1, 1, 1, 1, 1, 1, 1, 1, 1, 1, 1, 1, 1, 1, 1, 1, 1, 1, 1, 1, 1, 1, 1, 1, 1, 1, 1, 1, 1, 1, 1, 1, 1, 1, 1, 1, 1, 1, 1, 1, 1, 1, 1, 1, 1, 1, 1, 1, 1, 1, 1, 1, 1, 1, 1, 1, 1, 1, 1, 1, 1, 1, 1, 1, 1, 1, 1, 1, 1, 1, 1, 1, 1, 1, 1, 1, 1, 1, 1, 1, 1, 1, 1, 1, 1, 1, 1, 1, 1, 1, 1, 1, 1, 1, 1, 1, 1, 1, 1, 1, 1, 1, 1, 1, 1, 1, 1, 1, 1, 1, 1, 1, 1, 1, 1, 1, 1, 1, 1, 1, 1, 1, 1, 1, 1, 1, 1, 1, 1, 1, 1, 1, 1, 1, 1, 1, 1, 1, 1, 1, 1, 1, 1, 1, 1, 1, 1, 1, 1, 1, 1, 1, 1, 1, 1, 1, 1, 1, 1, 1, 1, 1, 1, 1, 1, 1, 1, 1, 1, 1, 1, 1, 1, 1, 1, 1, 1, 1, 1, 1, 1, 1, 1, 1, 1, 1, 1, 1, 1, 1, 1, 1, 1, 1, 1, 1, 1, 1, 1, 1, 1, 1, 1, 1, 1, 1, 1, 1, 1, 1, 1, 1, 1, 1, 1, 1, 1, 1, 1, 1, 1, 1, 1, 1, 1, 1, 1, 1, 1, 1, 1, 1, 1, 1, 1, 1, 1, 1, 1, 1, 1, 1, 1, 1, 1, 1, 1, 1, 1, 1, 1, 1, 1, 1, 1, 1, 1, 1, 1, 1, 1, 1, 1, 1, 1, 1, 1, 1, 1, 1, 1, 1, 1, 1, 1, 1, 1, 1, 1, 1, 1], 'offset_mapping': [(0, 0), (0, 5), (6, 13), (14, 18), (19, 21), (22, 23), (23, 24), (25, 27), (28, 32), (34, 46), (47, 53), (54, 57), (58, 67), (69, 76), (77, 81), (82, 84), (85, 88), (89, 92), (93, 96), (98, 99), (99, 100), (100, 101), (102, 106), (107, 109), (110, 117), (118, 125), (126, 129), (130, 135), (137, 138), (138, 139), (139, 140), (141, 151), (153, 155), (156, 158), (158, 159), (160, 163), (164, 169), (171, 172), (173, 176), (176, 177), (177, 179), (180, 186), (187, 189), (190, 193), (194, 204), (205, 209), (211, 216), (216, 217), (217, 218), (219, 223), (224, 232), (233, 237), (238, 240), (240, 241), (241, 243), (244, 247), (248, 250), (252, 260), (260, 261), (261, 262), (264, 267), (268, 270), (271, 276), (277, 278), (278, 279), (280, 284), (285, 287), (288, 296), (297, 300), (302, 307), (308, 312), (313, 314), (314, 315), (315, 317), (318, 322), (323, 325), (326, 330), (331, 335), (336, 338), (339, 342), (344, 348), (349, 352), (354, 356), (357, 365), (366, 371), (372, 377), (378, 382), (383, 386), (387, 393), (395, 399), (400, 402), (403, 409), (410, 414), (415, 417), (418, 422), (423, 427), (428, 431), (433, 434), (435, 438), (438, 439), (439, 440), (441, 446), (447, 451), (452, 455), (456, 466), (466, 467), (468, 471), (473, 478), (478, 479), (479, 480), (481, 482), (483, 488), (489, 492), (493, 498), (500, 503), (504, 506), (506, 507), (507, 509), (510, 514), (515, 518), (519, 521), (522, 529), (529, 530), (530, 531), (532, 536), (538, 547), (548, 553), (554, 559), (560, 563), (564, 568), (569, 571), (573, 580), (581, 583), (584, 588), (589, 591), (592, 599), (600, 602), (603, 607), (608, 613), (615, 618), (619, 625), (626, 628), (629, 633), (634, 639), (640, 642), (643, 647), (649, 653), (653, 654), (654, 656), (657, 662), (663, 666), (667, 671), (672, 680), (680, 682), (683, 687), (689, 694), (695, 701), (702, 706), (707, 711), (712, 716), (717, 722), (723, 726), (728, 731), (732, 735), (737, 740), (741, 745), (746, 749), (750, 754), (755, 756), (756, 757), (757, 758), (759, 766), (767, 769), (770, 772), (773, 775), (775, 776), (778, 783), (784, 785), (786, 790), (791, 794), (794, 795), (797, 802), (803, 807), (808, 810), (811, 816), (817, 824), (824, 825), (826, 832), (834, 841), (842, 846), (847, 849), (849, 850), (852, 855), (855, 856), (856, 858), (859, 862), (863, 865), (866, 868), (869, 871), (872, 874), (875, 879), (880, 882), (883, 888), (889, 892), (894, 897), (898, 903), (904, 907), (908, 913), (914, 916), (917, 919), (920, 925), (927, 932), (933, 939), (940, 942), (943, 948), (949, 956), (957, 961), (962, 963), (964, 967), (969, 974), (975, 981), (982, 986), (987, 990), (991, 995), (995, 996), (996, 998), (999, 1003), (1004, 1007), (1009, 1010), (1011, 1014), (1014, 1018), (1019, 1030), (1031, 1034), (1035, 1037), (1038, 1042), (1043, 1045), (1046, 1049), (1051, 1054), (1055, 1063), (1064, 1067), (1068, 1069), (1070, 1073), (1074, 1077), (1078, 1083), (1084, 1085), (1086, 1090), (1092, 1095), (1097, 1100), (1101, 1105), (1106, 1110), (1111, 1113), (1114, 1117), (1118, 1122), (1123, 1124), (1125, 1128), (1129, 1132), (1133, 1136), (1138, 1141), (1142, 1144), (1145, 1150), (1151, 1153), (1154, 1158), (1159, 1161), (1162, 1165), (1166, 1170), (1171, 1173), (1174, 1178), (1180, 1185), (1186, 1188), (1189, 1192), (1193, 1197), (1198, 1206), (1208, 1209), (1210, 1215), (1216, 1220), (1221, 1225), (1226, 1230), (1231, 1233), (1234, 1236), (1237, 1241), (1243, 1250), (1251, 1255), (1256, 1259), (1260, 1263), (1264, 1265), (1266, 1273), (1274, 1276), (1277, 1280), (1282, 1285), (1286, 1291), (1292, 1295), (1296, 1301), (1302, 1308), (1309, 1313), (1314, 1318), (1319, 1322), (1324, 1326), (1327, 1330), (1331, 1334), (1335, 1343), (1344, 1346), (1347, 1351), (1352, 1355), (1356, 1358), (1359, 1360), (1362, 1368), (1369, 1377), (1379, 1380), (1381, 1384), (1385, 1389), (1390, 1394), (1395, 1397), (1398, 1400), (1401, 1405), (1406, 1416), (1418, 1420), (1420, 1421), (1421, 1422), (1423, 1431), (1432, 1438), (1439, 1440), (1440, 1441), (1441, 1443), (1444, 1450), (1451, 1453), (1454, 1456), (1457, 1458), (1460, 1466), (1466, 1467), (1467, 1468), (1469, 1473), (1473, 1477), (1479, 1483), (1484, 1486), (1487, 1495), (1496, 1504), (1505, 1507), (1508, 1512), (1513, 1515), (1516, 1518), (1520, 1525), (1526, 1530), (1531, 1534), (1535, 1538), (1539, 1545), (1546, 1547), (1548, 1553), (1554, 1556), (1556, 1557), (1557, 1559), (1561, 1566), (1567, 1570), (1571, 1577), (1578, 1581), (1582, 1585), (1586, 1589), (1590, 1594), (1595, 1599), (1601, 1608), (1609, 1611), (1613, 1617), (1618, 1621), (1622, 1626), (1627, 1629), (1630, 1634), (1635, 1637), (1637, 1638), (1639, 1642), (1644, 1655), (1656, 1658), (1658, 1659), (1659, 1660), (1661, 1665), (1666, 1673), (1674, 1676), (1677, 1679), (1679, 1680), (1680, 1681), (1683, 1688), (1689, 1691), (1692, 1699), (1700, 1706), (1707, 1710), (1711, 1716), (1718, 1721), (1722, 1723), (1723, 1724), (1724, 1725), (1726, 1731), (1732, 1736), (1737, 1738), (1739, 1743), (1744, 1746), (1747, 1749), (1750, 1752), (1753, 1755), (1757, 1758), (1758, 1759), (1759, 1760), (1761, 1767), (1768, 1775), (1776, 1784), (1785, 1786), (1786, 1787), (1787, 1789), (1790, 1795), (1797, 1800), (1801, 1802), (1803, 1808), (1809, 1810), (1811, 1817), (1819, 1821), (1821, 1822), (1822, 1823), (1824, 1827), (1828, 1830), (1831, 1833), (1833, 1834), (1834, 1835), (1836, 1840), (1841, 1843), (1844, 1847), (1848, 1856), (1858, 1864), (1865, 1866), (1866, 1867), (1867, 1869), (1870, 1873), (1874, 1880), (1881, 1882), (1883, 1886), (1886, 1889), (1889, 1891), (1892, 1897), (1899, 1903), (1904, 1905), (1906, 1912), (1913, 1916), (1917, 1918), (1918, 1921), (1923, 1925), (1926, 1930), (1931, 1932), (1933, 1936), (1937, 1941), (1942, 1943), (1944, 1950), (1951, 1955), (1956, 1958), (1959, 1960), (1960, 1961), (1961, 1962), (1964, 1968), (1969, 1976), (1977, 1982), (1983, 1987), (1988, 1990), (1991, 1994), (1994, 1995), (1995, 1996), (1997, 2000), (2001, 2006), (2007, 2011), (2012, 2014), (2015, 2017), (2018, 2022), (2023, 2024), (2024, 2025), (2025, 2026), (2027, 2032), (2033, 2035), (2036, 2040), (2041, 2045), (2047, 2050), (2051, 2056), (2056, 2057), (2057, 2058), (2059, 2064), (2065, 2067), (2068, 2070), (2071, 2073), (2074, 2078), (2079, 2086), (2088, 2090), (2090, 2091), (2091, 2093), (2094, 2098), (2099, 2104), (2105, 2107), (2108, 2110), (2111, 2117), (2118, 2121), (2122, 2125), (2127, 2129), (2130, 2132), (2132, 2133), (2133, 2135), (2136, 2139), (2140, 2146), (2147, 2155), (2156, 2161), (2162, 2164), (2164, 2165), (2165, 2167), (2169, 2172), (2173, 2176), (2177, 2182), (2184, 2186), (2186, 2191), (2192, 2202), (2203, 2208), (0, 0)]}\n"
     ]
    },
    {
     "ename": "NameError",
     "evalue": "name 'start_char_idx' is not defined",
     "output_type": "error",
     "traceback": [
      "\u001b[0;31m---------------------------------------------------------------------------\u001b[0m",
      "\u001b[0;31mNameError\u001b[0m                                 Traceback (most recent call last)",
      "Input \u001b[0;32mIn [38]\u001b[0m, in \u001b[0;36m<cell line: 7>\u001b[0;34m()\u001b[0m\n\u001b[1;32m      4\u001b[0m \u001b[38;5;28;01mimport\u001b[39;00m \u001b[38;5;21;01mimportlib\u001b[39;00m\n\u001b[1;32m      5\u001b[0m importlib\u001b[38;5;241m.\u001b[39mreload(span_extraction)\n\u001b[0;32m----> 7\u001b[0m \u001b[43mevaluate\u001b[49m\u001b[43m(\u001b[49m\n\u001b[1;32m      8\u001b[0m \u001b[43m    \u001b[49m\u001b[43mvideos\u001b[49m\u001b[38;5;241;43m=\u001b[39;49m\u001b[43mtest_videos\u001b[49m\u001b[43m,\u001b[49m\n\u001b[1;32m      9\u001b[0m \u001b[43m    \u001b[49m\u001b[43mmodel\u001b[49m\u001b[38;5;241;43m=\u001b[39;49m\u001b[43mSponsorSpanExtraction\u001b[49m\u001b[43m(\u001b[49m\u001b[38;5;124;43m'\u001b[39;49m\u001b[38;5;124;43mdistilbert-span-extraction-uncased/checkpoint-9000\u001b[39;49m\u001b[38;5;124;43m'\u001b[39;49m\u001b[43m)\u001b[49m\u001b[43m,\u001b[49m\n\u001b[1;32m     10\u001b[0m \u001b[43m    \u001b[49m\u001b[43meps\u001b[49m\u001b[38;5;241;43m=\u001b[39;49m\u001b[38;5;241;43m1\u001b[39;49m\n\u001b[1;32m     11\u001b[0m \u001b[43m)\u001b[49m\n",
      "Input \u001b[0;32mIn [32]\u001b[0m, in \u001b[0;36mevaluate\u001b[0;34m(videos, model, eps)\u001b[0m\n\u001b[1;32m     65\u001b[0m \u001b[38;5;28;01mdef\u001b[39;00m \u001b[38;5;21mevaluate\u001b[39m(videos, model, eps\u001b[38;5;241m=\u001b[39m\u001b[38;5;241m1\u001b[39m):\n\u001b[1;32m     66\u001b[0m     \u001b[38;5;28;01mfrom\u001b[39;00m \u001b[38;5;21;01msklearn\u001b[39;00m\u001b[38;5;21;01m.\u001b[39;00m\u001b[38;5;21;01mmetrics\u001b[39;00m \u001b[38;5;28;01mimport\u001b[39;00m confusion_matrix, accuracy_score, precision_score, recall_score, precision_recall_curve, roc_curve\n\u001b[0;32m---> 68\u001b[0m     outputs \u001b[38;5;241m=\u001b[39m \u001b[43mcompute_results\u001b[49m\u001b[43m(\u001b[49m\u001b[43mvideos\u001b[49m\u001b[43m,\u001b[49m\u001b[43m \u001b[49m\u001b[43mmodel\u001b[49m\u001b[43m,\u001b[49m\u001b[43m \u001b[49m\u001b[43meps\u001b[49m\u001b[43m)\u001b[49m\n\u001b[1;32m     69\u001b[0m     predictions \u001b[38;5;241m=\u001b[39m outputs[\u001b[38;5;124m'\u001b[39m\u001b[38;5;124mpredictions\u001b[39m\u001b[38;5;124m'\u001b[39m]\n\u001b[1;32m     70\u001b[0m     references \u001b[38;5;241m=\u001b[39m outputs[\u001b[38;5;124m'\u001b[39m\u001b[38;5;124mreferences\u001b[39m\u001b[38;5;124m'\u001b[39m]\n",
      "Input \u001b[0;32mIn [32]\u001b[0m, in \u001b[0;36mcompute_results\u001b[0;34m(videos, model, eps)\u001b[0m\n\u001b[1;32m     45\u001b[0m \u001b[38;5;28;01mfor\u001b[39;00m video_id, captions, sponsor_ranges \u001b[38;5;129;01min\u001b[39;00m tqdm(videos):\n\u001b[1;32m     46\u001b[0m     predicted_sponsor_ranges \u001b[38;5;241m=\u001b[39m []\n\u001b[0;32m---> 48\u001b[0m     \u001b[38;5;28;01mfor\u001b[39;00m predicted_range \u001b[38;5;129;01min\u001b[39;00m merge_ranges(\u001b[43mmodel\u001b[49m\u001b[38;5;241;43m.\u001b[39;49m\u001b[43mpredict\u001b[49m\u001b[43m(\u001b[49m\u001b[43mcaptions\u001b[49m\u001b[43m)\u001b[49m):\n\u001b[1;32m     49\u001b[0m         \u001b[38;5;28;01mif\u001b[39;00m predicted_range[\u001b[38;5;241m0\u001b[39m] \u001b[38;5;129;01mis\u001b[39;00m \u001b[38;5;28;01mNone\u001b[39;00m \u001b[38;5;129;01mor\u001b[39;00m predicted_range[\u001b[38;5;241m1\u001b[39m] \u001b[38;5;129;01mis\u001b[39;00m \u001b[38;5;28;01mNone\u001b[39;00m:\n\u001b[1;32m     50\u001b[0m             \u001b[38;5;28;01mcontinue\u001b[39;00m\n",
      "File \u001b[0;32m/mnt/z/Development/uom/NLU/sponsorml-ytcaptions/span_extraction.py:58\u001b[0m, in \u001b[0;36mSponsorSpanExtraction.predict\u001b[0;34m(self, captions)\u001b[0m\n\u001b[1;32m     55\u001b[0m inputs \u001b[38;5;241m=\u001b[39m \u001b[38;5;28mself\u001b[39m\u001b[38;5;241m.\u001b[39mtokenize({ \u001b[38;5;124m'\u001b[39m\u001b[38;5;124mtext\u001b[39m\u001b[38;5;124m'\u001b[39m: segment_text(captions) })\n\u001b[1;32m     56\u001b[0m \u001b[38;5;28mprint\u001b[39m(inputs)\n\u001b[0;32m---> 58\u001b[0m start_position \u001b[38;5;241m=\u001b[39m index_of_token(inputs[\u001b[38;5;124m'\u001b[39m\u001b[38;5;124moffset_mapping\u001b[39m\u001b[38;5;124m'\u001b[39m], \u001b[43mstart_char_idx\u001b[49m, default_value\u001b[38;5;241m=\u001b[39m\u001b[38;5;241m0\u001b[39m)\n\u001b[1;32m     59\u001b[0m end_position \u001b[38;5;241m=\u001b[39m index_of_token(inputs[\u001b[38;5;124m'\u001b[39m\u001b[38;5;124moffset_mapping\u001b[39m\u001b[38;5;124m'\u001b[39m], end_char_idx, default_value\u001b[38;5;241m=\u001b[39m\u001b[38;5;241m0\u001b[39m)\n\u001b[1;32m     60\u001b[0m \u001b[38;5;28;01mif\u001b[39;00m start_position \u001b[38;5;241m!=\u001b[39m \u001b[38;5;241m0\u001b[39m \u001b[38;5;129;01mand\u001b[39;00m end_position \u001b[38;5;241m==\u001b[39m \u001b[38;5;241m0\u001b[39m:\n",
      "\u001b[0;31mNameError\u001b[0m: name 'start_char_idx' is not defined"
     ]
    }
   ],
   "source": [
    "from span_extraction import SponsorSpanExtraction\n",
    "\n",
    "evaluate(\n",
    "    videos=test_videos,\n",
    "    model=SponsorSpanExtraction('distilbert-span-extraction-uncased/checkpoint-9000'),\n",
    "    eps=1\n",
    ")"
   ]
  },
  {
   "cell_type": "code",
   "execution_count": null,
   "id": "b5ad377b",
   "metadata": {},
   "outputs": [],
   "source": []
  }
 ],
 "metadata": {
  "kernelspec": {
   "display_name": "Python 3 (ipykernel)",
   "language": "python",
   "name": "python3"
  },
  "language_info": {
   "codemirror_mode": {
    "name": "ipython",
    "version": 3
   },
   "file_extension": ".py",
   "mimetype": "text/x-python",
   "name": "python",
   "nbconvert_exporter": "python",
   "pygments_lexer": "ipython3",
   "version": "3.8.10"
  }
 },
 "nbformat": 4,
 "nbformat_minor": 5
}
